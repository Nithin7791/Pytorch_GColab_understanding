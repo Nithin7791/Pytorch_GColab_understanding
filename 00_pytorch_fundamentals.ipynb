{
  "nbformat": 4,
  "nbformat_minor": 0,
  "metadata": {
    "colab": {
      "name": "00_pytorch_fundamentals.ipynb",
      "provenance": [],
      "collapsed_sections": [],
      "authorship_tag": "ABX9TyNX32tEymMMqCtMCqYnR5qa",
      "include_colab_link": true
    },
    "kernelspec": {
      "name": "python3",
      "display_name": "Python 3"
    },
    "language_info": {
      "name": "python"
    },
    "gpuClass": "standard"
  },
  "cells": [
    {
      "cell_type": "markdown",
      "metadata": {
        "id": "view-in-github",
        "colab_type": "text"
      },
      "source": [
        "<a href=\"https://colab.research.google.com/github/Nithin7791/Pytorch_GColab_understanding/blob/main/00_pytorch_fundamentals.ipynb\" target=\"_parent\"><img src=\"https://colab.research.google.com/assets/colab-badge.svg\" alt=\"Open In Colab\"/></a>"
      ]
    },
    {
      "cell_type": "code",
      "execution_count": 5,
      "metadata": {
        "colab": {
          "base_uri": "https://localhost:8080/"
        },
        "id": "8GXN20VFnG0i",
        "outputId": "f648221f-873c-4dea-d0b9-7da91826d5ed"
      },
      "outputs": [
        {
          "output_type": "stream",
          "name": "stdout",
          "text": [
            "1.12.0+cu113\n"
          ]
        }
      ],
      "source": [
        "import torch\n",
        "import pandas as pd\n",
        "import numpy as np\n",
        "print(torch.__version__)"
      ]
    },
    {
      "cell_type": "markdown",
      "source": [
        "Introduction to Tensors"
      ],
      "metadata": {
        "id": "E-mWFtTtqyxP"
      }
    },
    {
      "cell_type": "markdown",
      "source": [
        "Creating tensors"
      ],
      "metadata": {
        "id": "GXkF9Xp_rWa3"
      }
    },
    {
      "cell_type": "code",
      "source": [
        "#scalar\n",
        "scalar = torch.tensor(7)"
      ],
      "metadata": {
        "id": "fvC53fGFrZUg"
      },
      "execution_count": 6,
      "outputs": []
    },
    {
      "cell_type": "code",
      "source": [
        "scalar.ndim"
      ],
      "metadata": {
        "colab": {
          "base_uri": "https://localhost:8080/"
        },
        "id": "l5r_36MqrfdB",
        "outputId": "1436800f-09cc-49af-f8ec-152fa7533e5b"
      },
      "execution_count": 7,
      "outputs": [
        {
          "output_type": "execute_result",
          "data": {
            "text/plain": [
              "0"
            ]
          },
          "metadata": {},
          "execution_count": 7
        }
      ]
    },
    {
      "cell_type": "code",
      "source": [
        "scalar.item()"
      ],
      "metadata": {
        "colab": {
          "base_uri": "https://localhost:8080/"
        },
        "id": "YQKGlMg5rfG3",
        "outputId": "7dbf6775-2591-4207-dda0-13573c15a4fa"
      },
      "execution_count": 8,
      "outputs": [
        {
          "output_type": "execute_result",
          "data": {
            "text/plain": [
              "7"
            ]
          },
          "metadata": {},
          "execution_count": 8
        }
      ]
    },
    {
      "cell_type": "code",
      "source": [
        " #Vector\n",
        "vector = torch.tensor([7, 7])\n",
        "vector\n",
        "vector.ndim"
      ],
      "metadata": {
        "colab": {
          "base_uri": "https://localhost:8080/"
        },
        "id": "Lt9ANy7ZsFXR",
        "outputId": "c87b1813-6326-40a3-94df-a290fa4a76fc"
      },
      "execution_count": 9,
      "outputs": [
        {
          "output_type": "execute_result",
          "data": {
            "text/plain": [
              "1"
            ]
          },
          "metadata": {},
          "execution_count": 9
        }
      ]
    },
    {
      "cell_type": "code",
      "source": [
        "vector.shape"
      ],
      "metadata": {
        "colab": {
          "base_uri": "https://localhost:8080/"
        },
        "id": "2D60NZc9sSaj",
        "outputId": "43d25986-f34b-4ce3-a37e-2bf4f0f5a989"
      },
      "execution_count": 10,
      "outputs": [
        {
          "output_type": "execute_result",
          "data": {
            "text/plain": [
              "torch.Size([2])"
            ]
          },
          "metadata": {},
          "execution_count": 10
        }
      ]
    },
    {
      "cell_type": "code",
      "source": [
        "#Matrix\n",
        "matrix = torch.tensor([[1, 2, 3], \n",
        "                       [4, 5, 6]])\n",
        "matrix"
      ],
      "metadata": {
        "colab": {
          "base_uri": "https://localhost:8080/"
        },
        "id": "8a-fH6LPsp7d",
        "outputId": "bb08cf13-1016-46f4-cb2a-6c590cba240e"
      },
      "execution_count": 11,
      "outputs": [
        {
          "output_type": "execute_result",
          "data": {
            "text/plain": [
              "tensor([[1, 2, 3],\n",
              "        [4, 5, 6]])"
            ]
          },
          "metadata": {},
          "execution_count": 11
        }
      ]
    },
    {
      "cell_type": "code",
      "source": [
        "matrix.ndim"
      ],
      "metadata": {
        "colab": {
          "base_uri": "https://localhost:8080/"
        },
        "id": "n4BQV-0-tRRE",
        "outputId": "2f40bc4e-22d2-4604-d11a-033e2739a3aa"
      },
      "execution_count": 12,
      "outputs": [
        {
          "output_type": "execute_result",
          "data": {
            "text/plain": [
              "2"
            ]
          },
          "metadata": {},
          "execution_count": 12
        }
      ]
    },
    {
      "cell_type": "code",
      "source": [
        "matrix.shape"
      ],
      "metadata": {
        "colab": {
          "base_uri": "https://localhost:8080/"
        },
        "id": "A2vmfN7jtTwA",
        "outputId": "961b3b2d-c11d-4c1e-cd6b-e7659ada71d2"
      },
      "execution_count": 13,
      "outputs": [
        {
          "output_type": "execute_result",
          "data": {
            "text/plain": [
              "torch.Size([2, 3])"
            ]
          },
          "metadata": {},
          "execution_count": 13
        }
      ]
    },
    {
      "cell_type": "code",
      "source": [
        "matrix[0]"
      ],
      "metadata": {
        "colab": {
          "base_uri": "https://localhost:8080/"
        },
        "id": "9GQtvtp8tVeu",
        "outputId": "7bbe6fb8-2ed0-4ca8-c6a6-3e09d93355b8"
      },
      "execution_count": 14,
      "outputs": [
        {
          "output_type": "execute_result",
          "data": {
            "text/plain": [
              "tensor([1, 2, 3])"
            ]
          },
          "metadata": {},
          "execution_count": 14
        }
      ]
    },
    {
      "cell_type": "code",
      "source": [
        "#Tensor 1 with channel (Pytorch is CHW format)\n",
        "tensor1 = torch.tensor([[[1, 2, 3, 4],\n",
        "                         [4, 5, 6, 5]],\n",
        "                        [[7, 8, 9, 1],\n",
        "                         [1, 2, 3, 4]]])\n",
        "tensor1.ndim"
      ],
      "metadata": {
        "colab": {
          "base_uri": "https://localhost:8080/"
        },
        "id": "v-MYu6kMt2bd",
        "outputId": "06112b2f-ed3c-4be1-ff68-d3cb76749ab8"
      },
      "execution_count": 15,
      "outputs": [
        {
          "output_type": "execute_result",
          "data": {
            "text/plain": [
              "3"
            ]
          },
          "metadata": {},
          "execution_count": 15
        }
      ]
    },
    {
      "cell_type": "code",
      "source": [
        "tensor1.shape"
      ],
      "metadata": {
        "colab": {
          "base_uri": "https://localhost:8080/"
        },
        "id": "4ThOtOr8bRZx",
        "outputId": "54148de9-74ad-47c8-81d9-739d4a5719c9"
      },
      "execution_count": 16,
      "outputs": [
        {
          "output_type": "execute_result",
          "data": {
            "text/plain": [
              "torch.Size([2, 2, 4])"
            ]
          },
          "metadata": {},
          "execution_count": 16
        }
      ]
    },
    {
      "cell_type": "code",
      "source": [
        "tensor1.size()"
      ],
      "metadata": {
        "colab": {
          "base_uri": "https://localhost:8080/"
        },
        "id": "ABxPm-UzcKkJ",
        "outputId": "8e0e329d-cfd9-402a-a5db-4c8ed2365312"
      },
      "execution_count": 17,
      "outputs": [
        {
          "output_type": "execute_result",
          "data": {
            "text/plain": [
              "torch.Size([2, 2, 4])"
            ]
          },
          "metadata": {},
          "execution_count": 17
        }
      ]
    },
    {
      "cell_type": "code",
      "source": [
        "tensor1[0]"
      ],
      "metadata": {
        "colab": {
          "base_uri": "https://localhost:8080/"
        },
        "id": "YRo9RhcVczfD",
        "outputId": "d3bbcbf8-3831-473c-adc0-77429c06485e"
      },
      "execution_count": 18,
      "outputs": [
        {
          "output_type": "execute_result",
          "data": {
            "text/plain": [
              "tensor([[1, 2, 3, 4],\n",
              "        [4, 5, 6, 5]])"
            ]
          },
          "metadata": {},
          "execution_count": 18
        }
      ]
    },
    {
      "cell_type": "code",
      "source": [
        "#Tensor 2 with channel (Pytorch is CHW format)\n",
        "tensor2 = torch.tensor([[[[1, 2, 3, 4],\n",
        "                         [4, 5, 6, 5]],\n",
        "                        [[7, 8, 9, 1],\n",
        "                         [1, 2, 3, 4]]],\n",
        "                       [[[1, 2, 3, 4],\n",
        "                         [4, 5, 6, 5]],\n",
        "                        [[7, 8, 9, 1],\n",
        "                         [1, 2, 3, 4]]],\n",
        "                        [[[1, 2, 3, 4],\n",
        "                         [4, 5, 6, 5]],\n",
        "                        [[7, 8, 9, 1],\n",
        "                         [1, 2, 3, 4]]]])"
      ],
      "metadata": {
        "id": "FY4xn0MAdkvk"
      },
      "execution_count": 26,
      "outputs": []
    },
    {
      "cell_type": "code",
      "source": [
        "tensor2.ndim"
      ],
      "metadata": {
        "colab": {
          "base_uri": "https://localhost:8080/"
        },
        "id": "AV_lT9XOe1bC",
        "outputId": "d380f01e-6662-4417-e60b-1b0d3778017c"
      },
      "execution_count": 27,
      "outputs": [
        {
          "output_type": "execute_result",
          "data": {
            "text/plain": [
              "4"
            ]
          },
          "metadata": {},
          "execution_count": 27
        }
      ]
    },
    {
      "cell_type": "code",
      "source": [
        "tensor2.shape"
      ],
      "metadata": {
        "colab": {
          "base_uri": "https://localhost:8080/"
        },
        "id": "OP2brU8s4RKM",
        "outputId": "364bad25-3540-44ff-812d-e168fec77a37"
      },
      "execution_count": 28,
      "outputs": [
        {
          "output_type": "execute_result",
          "data": {
            "text/plain": [
              "torch.Size([3, 2, 2, 4])"
            ]
          },
          "metadata": {},
          "execution_count": 28
        }
      ]
    },
    {
      "cell_type": "markdown",
      "source": [
        ""
      ],
      "metadata": {
        "id": "AGG5scWP4-WL"
      }
    },
    {
      "cell_type": "markdown",
      "source": [
        "### random tensors"
      ],
      "metadata": {
        "id": "bvFQnsAe5DVu"
      }
    },
    {
      "cell_type": "code",
      "source": [
        ""
      ],
      "metadata": {
        "id": "xX5khdr65EWh"
      },
      "execution_count": null,
      "outputs": []
    },
    {
      "cell_type": "code",
      "source": [
        "# Random tensors\n",
        "random_tensor = torch.rand(3, 4)\n",
        "random_tensor"
      ],
      "metadata": {
        "colab": {
          "base_uri": "https://localhost:8080/"
        },
        "id": "iCOsf7yi5IvU",
        "outputId": "4124925c-87a6-41a7-c1d7-1cf2df0bec52"
      },
      "execution_count": 32,
      "outputs": [
        {
          "output_type": "execute_result",
          "data": {
            "text/plain": [
              "tensor([[0.3131, 0.5646, 0.5550, 0.5628],\n",
              "        [0.0148, 0.3688, 0.7781, 0.8468],\n",
              "        [0.5565, 0.0558, 0.9871, 0.7292]])"
            ]
          },
          "metadata": {},
          "execution_count": 32
        }
      ]
    },
    {
      "cell_type": "code",
      "source": [
        "random_tensor.shape"
      ],
      "metadata": {
        "colab": {
          "base_uri": "https://localhost:8080/"
        },
        "id": "r6hocM1k5VqB",
        "outputId": "2f640756-6cbc-4dca-bb23-673cf6fb65d9"
      },
      "execution_count": 33,
      "outputs": [
        {
          "output_type": "execute_result",
          "data": {
            "text/plain": [
              "torch.Size([3, 4])"
            ]
          },
          "metadata": {},
          "execution_count": 33
        }
      ]
    },
    {
      "cell_type": "code",
      "source": [
        "random_tensor = torch.rand(3, 3, 4)\n",
        "random_tensor"
      ],
      "metadata": {
        "colab": {
          "base_uri": "https://localhost:8080/"
        },
        "id": "76A0P0da5beX",
        "outputId": "b643b4b5-c0f0-4090-aaee-343b6f0e6fd4"
      },
      "execution_count": 36,
      "outputs": [
        {
          "output_type": "execute_result",
          "data": {
            "text/plain": [
              "tensor([[[0.1054, 0.5629, 0.5052, 0.4475],\n",
              "         [0.0631, 0.2510, 0.0635, 0.0685],\n",
              "         [0.9880, 0.1297, 0.7189, 0.7070]],\n",
              "\n",
              "        [[0.7136, 0.4872, 0.5224, 0.0688],\n",
              "         [0.8843, 0.3879, 0.1335, 0.3406],\n",
              "         [0.7838, 0.8989, 0.7054, 0.9815]],\n",
              "\n",
              "        [[0.6035, 0.2531, 0.9521, 0.1393],\n",
              "         [0.4790, 0.7935, 0.1644, 0.4804],\n",
              "         [0.3939, 0.4672, 0.8874, 0.0013]]])"
            ]
          },
          "metadata": {},
          "execution_count": 36
        }
      ]
    },
    {
      "cell_type": "code",
      "source": [
        "random_tensor.shape"
      ],
      "metadata": {
        "colab": {
          "base_uri": "https://localhost:8080/"
        },
        "id": "Iq1bBAKk5inP",
        "outputId": "5f541afd-c777-44fe-8018-82aebacf49d9"
      },
      "execution_count": 37,
      "outputs": [
        {
          "output_type": "execute_result",
          "data": {
            "text/plain": [
              "torch.Size([3, 3, 4])"
            ]
          },
          "metadata": {},
          "execution_count": 37
        }
      ]
    },
    {
      "cell_type": "code",
      "source": [
        "# CHW\n",
        "random_tensor2 = torch.rand(size=(3, 3, 4))\n",
        "random_tensor2"
      ],
      "metadata": {
        "colab": {
          "base_uri": "https://localhost:8080/"
        },
        "id": "JlwRYQxp5kco",
        "outputId": "f065ade8-8537-40e3-e2e0-3e0d3937defb"
      },
      "execution_count": 39,
      "outputs": [
        {
          "output_type": "execute_result",
          "data": {
            "text/plain": [
              "tensor([[[0.9757, 0.4931, 0.1416, 0.4416],\n",
              "         [0.9030, 0.6127, 0.8875, 0.0730],\n",
              "         [0.6985, 0.8598, 0.7656, 0.6969]],\n",
              "\n",
              "        [[0.6088, 0.0226, 0.3275, 0.9754],\n",
              "         [0.5832, 0.8411, 0.3456, 0.0560],\n",
              "         [0.5241, 0.7538, 0.2459, 0.6385]],\n",
              "\n",
              "        [[0.5473, 0.1745, 0.2180, 0.1553],\n",
              "         [0.4002, 0.2008, 0.6625, 0.4408],\n",
              "         [0.1624, 0.9263, 0.9926, 0.5899]]])"
            ]
          },
          "metadata": {},
          "execution_count": 39
        }
      ]
    },
    {
      "cell_type": "code",
      "source": [
        "random_tensor2.dtype"
      ],
      "metadata": {
        "colab": {
          "base_uri": "https://localhost:8080/"
        },
        "id": "MawVN8ZY6oBx",
        "outputId": "28436dbe-6c65-4e1f-9bd2-9fe108deda16"
      },
      "execution_count": 40,
      "outputs": [
        {
          "output_type": "execute_result",
          "data": {
            "text/plain": [
              "torch.float32"
            ]
          },
          "metadata": {},
          "execution_count": 40
        }
      ]
    },
    {
      "cell_type": "code",
      "source": [
        ""
      ],
      "metadata": {
        "id": "UsKc-YgT7O4I"
      },
      "execution_count": null,
      "outputs": []
    }
  ]
}